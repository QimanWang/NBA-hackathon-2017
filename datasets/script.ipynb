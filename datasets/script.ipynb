{
 "cells": [
  {
   "cell_type": "code",
   "execution_count": 5,
   "metadata": {
    "collapsed": true
   },
   "outputs": [],
   "source": [
    "import pandas as pd\n",
    "import datetime"
   ]
  },
  {
   "cell_type": "code",
   "execution_count": 20,
   "metadata": {
    "collapsed": true
   },
   "outputs": [],
   "source": [
    "# date input format mm/dd/yyyyy\n",
    "def num_of_dates_till_end_of_season(game_day):\n",
    "    last_game_date_of_year = {\n",
    "        '2013': '04/16/2014',\n",
    "        '2014': '04/15/2015',\n",
    "        '2015': '04/13/2016',\n",
    "        '2016': '04/12/2017'\n",
    "    }\n",
    "    # print(game_day)\n",
    "    date_format = \"%m/%d/%Y\"\n",
    "    game_date = datetime.datetime.strptime(game_day, date_format)\n",
    "    # print(game_date)\n",
    "    if game_date.month <= 4:\n",
    "        end_day = last_game_date_of_year.get(str(game_date.year - 1))\n",
    "    else:\n",
    "        end_day = last_game_date_of_year.get(str(game_date.year))\n",
    "\n",
    "    end_date = datetime.datetime.strptime(end_day, date_format)\n",
    "\n",
    "    difference = end_date - game_date\n",
    "    return difference.days"
   ]
  },
  {
   "cell_type": "code",
   "execution_count": 21,
   "metadata": {
    "collapsed": false
   },
   "outputs": [
    {
     "name": "stdout",
     "output_type": "stream",
     "text": [
      "5\n"
     ]
    }
   ],
   "source": [
    "df = pd.read_csv('Game_Data.csv')\n",
    "# df['date_est'][12000]\n",
    "print(num_of_dates_till_end_of_season('04/10/2015'))\n"
   ]
  },
  {
   "cell_type": "code",
   "execution_count": null,
   "metadata": {
    "collapsed": true
   },
   "outputs": [],
   "source": []
  }
 ],
 "metadata": {
  "anaconda-cloud": {},
  "kernelspec": {
   "display_name": "Python [conda env:p_3.5]",
   "language": "python",
   "name": "conda-env-p_3.5-py"
  },
  "language_info": {
   "codemirror_mode": {
    "name": "ipython",
    "version": 3
   },
   "file_extension": ".py",
   "mimetype": "text/x-python",
   "name": "python",
   "nbconvert_exporter": "python",
   "pygments_lexer": "ipython3",
   "version": "3.5.3"
  }
 },
 "nbformat": 4,
 "nbformat_minor": 1
}

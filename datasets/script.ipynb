{
 "cells": [
  {
   "cell_type": "code",
   "execution_count": 5,
   "metadata": {
    "collapsed": true
   },
   "outputs": [],
   "source": [
    "import pandas as pd\n",
    "import datetime"
   ]
  },
  {
   "cell_type": "markdown",
   "metadata": {},
   "source": [
    "num_of_dates_till_end_of_season takes in a date of format mm/dd/yyyyy,\n",
    "returns the number of dates left until the final game of that season."
   ]
  },
  {
   "cell_type": "code",
   "execution_count": null,
   "metadata": {
    "collapsed": true
   },
   "outputs": [],
   "source": [
    "# date input format mm/dd/yyyyy\n",
    "def num_of_dates_till_end_of_season(game_day):\n",
    "    last_game_date_of_year = {\n",
    "        '2013': '04/16/2014',\n",
    "        '2014': '04/15/2015',\n",
    "        '2015': '04/13/2016',\n",
    "        '2016': '04/12/2017'\n",
    "    }\n",
    "    # print(game_day)\n",
    "    date_format = \"%m/%d/%Y\"\n",
    "    game_date = datetime.datetime.strptime(game_day, date_format)\n",
    "    # print(game_date)\n",
    "    if game_date.month <= 4:\n",
    "        end_day = last_game_date_of_year.get(str(game_date.year - 1))\n",
    "    else:\n",
    "        end_day = last_game_date_of_year.get(str(game_date.year))\n",
    "\n",
    "    end_date = datetime.datetime.strptime(end_day, date_format)\n",
    "\n",
    "    difference = end_date - game_date\n",
    "    return difference.days"
   ]
  },
  {
   "cell_type": "code",
   "execution_count": 26,
   "metadata": {
    "collapsed": false
   },
   "outputs": [
    {
     "name": "stdout",
     "output_type": "stream",
     "text": [
      "193\n"
     ]
    }
   ],
   "source": [
    "df = pd.read_csv('Game_Data.csv')\n",
    "# df['date_est'][12000]\n",
    "print(num_of_dates_till_end_of_season('10/01/2016'))\n"
   ]
  },
  {
   "cell_type": "markdown",
   "metadata": {},
   "source": [
    " takes in team1_name,team_2_name, date of game and returns\n",
    " the number of mvps in a tuple(number_mvp_team1,number_mvp_team2)"
   ]
  },
  {
   "cell_type": "code",
   "execution_count": 27,
   "metadata": {
    "collapsed": false
   },
   "outputs": [
    {
     "ename": "SyntaxError",
     "evalue": "unexpected EOF while parsing (<ipython-input-27-ec4af8ef493c>, line 2)",
     "output_type": "error",
     "traceback": [
      "\u001b[1;36m  File \u001b[1;32m\"<ipython-input-27-ec4af8ef493c>\"\u001b[1;36m, line \u001b[1;32m2\u001b[0m\n\u001b[1;33m    \u001b[0m\n\u001b[1;37m    ^\u001b[0m\n\u001b[1;31mSyntaxError\u001b[0m\u001b[1;31m:\u001b[0m unexpected EOF while parsing\n"
     ]
    }
   ],
   "source": [
    "def num_mvp_on_teams(team1, team2, date):\n",
    "    "
   ]
  },
  {
   "cell_type": "code",
   "execution_count": null,
   "metadata": {
    "collapsed": true
   },
   "outputs": [],
   "source": []
  }
 ],
 "metadata": {
  "anaconda-cloud": {},
  "kernelspec": {
   "display_name": "Python [conda env:p_3.5]",
   "language": "python",
   "name": "conda-env-p_3.5-py"
  },
  "language_info": {
   "codemirror_mode": {
    "name": "ipython",
    "version": 3
   },
   "file_extension": ".py",
   "mimetype": "text/x-python",
   "name": "python",
   "nbconvert_exporter": "python",
   "pygments_lexer": "ipython3",
   "version": "3.5.3"
  }
 },
 "nbformat": 4,
 "nbformat_minor": 1
}

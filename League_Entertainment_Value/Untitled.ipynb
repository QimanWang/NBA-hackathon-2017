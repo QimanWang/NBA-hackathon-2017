{
 "cells": [
  {
   "cell_type": "code",
   "execution_count": 1,
   "metadata": {
    "collapsed": true
   },
   "outputs": [],
   "source": [
    "import pandas as pd\n"
   ]
  },
  {
   "cell_type": "code",
   "execution_count": 2,
   "metadata": {
    "collapsed": true
   },
   "outputs": [],
   "source": [
    "# load and prepare the booking df\n",
    "pd = pd.read_csv('National_ratings.csv')\n"
   ]
  },
  {
   "cell_type": "code",
   "execution_count": 3,
   "metadata": {
    "collapsed": false
   },
   "outputs": [
    {
     "data": {
      "text/html": [
       "<div>\n",
       "<style>\n",
       "    .dataframe thead tr:only-child th {\n",
       "        text-align: right;\n",
       "    }\n",
       "\n",
       "    .dataframe thead th {\n",
       "        text-align: left;\n",
       "    }\n",
       "\n",
       "    .dataframe tbody tr th {\n",
       "        vertical-align: top;\n",
       "    }\n",
       "</style>\n",
       "<table border=\"1\" class=\"dataframe\">\n",
       "  <thead>\n",
       "    <tr style=\"text-align: right;\">\n",
       "      <th></th>\n",
       "      <th>National_Gm_Num</th>\n",
       "      <th>Network</th>\n",
       "      <th>Date</th>\n",
       "      <th>Start Time</th>\n",
       "      <th>End Time</th>\n",
       "      <th>Duration</th>\n",
       "      <th>Away Team</th>\n",
       "      <th>Home Team</th>\n",
       "      <th>National Rating</th>\n",
       "      <th>Average Viewers (000)</th>\n",
       "      <th>Average Households (000)</th>\n",
       "    </tr>\n",
       "  </thead>\n",
       "  <tbody>\n",
       "    <tr>\n",
       "      <th>0</th>\n",
       "      <td>1</td>\n",
       "      <td>TNT</td>\n",
       "      <td>2016-10-25</td>\n",
       "      <td>7:33 PM</td>\n",
       "      <td>10:12 PM</td>\n",
       "      <td>159</td>\n",
       "      <td>NYK</td>\n",
       "      <td>Cleveland</td>\n",
       "      <td>2.2</td>\n",
       "      <td>2872</td>\n",
       "      <td>2044</td>\n",
       "    </tr>\n",
       "    <tr>\n",
       "      <th>1</th>\n",
       "      <td>2</td>\n",
       "      <td>TNT</td>\n",
       "      <td>2016-10-25</td>\n",
       "      <td>10:12 PM</td>\n",
       "      <td>12:56 AM</td>\n",
       "      <td>164</td>\n",
       "      <td>SAS</td>\n",
       "      <td>Golden State</td>\n",
       "      <td>2.6</td>\n",
       "      <td>3483</td>\n",
       "      <td>2428</td>\n",
       "    </tr>\n",
       "    <tr>\n",
       "      <th>2</th>\n",
       "      <td>3</td>\n",
       "      <td>ESPN</td>\n",
       "      <td>2016-10-26</td>\n",
       "      <td>8:04 PM</td>\n",
       "      <td>10:42 PM</td>\n",
       "      <td>158</td>\n",
       "      <td>OKC</td>\n",
       "      <td>Philadelphia</td>\n",
       "      <td>1.4</td>\n",
       "      <td>1583</td>\n",
       "      <td>1224</td>\n",
       "    </tr>\n",
       "    <tr>\n",
       "      <th>3</th>\n",
       "      <td>4</td>\n",
       "      <td>ESPN</td>\n",
       "      <td>2016-10-26</td>\n",
       "      <td>10:42 PM</td>\n",
       "      <td>1:12 AM</td>\n",
       "      <td>150</td>\n",
       "      <td>HOU</td>\n",
       "      <td>L.A. Lakers</td>\n",
       "      <td>1.7</td>\n",
       "      <td>2002</td>\n",
       "      <td>1518</td>\n",
       "    </tr>\n",
       "    <tr>\n",
       "      <th>4</th>\n",
       "      <td>5</td>\n",
       "      <td>TNT</td>\n",
       "      <td>2016-10-27</td>\n",
       "      <td>8:13 PM</td>\n",
       "      <td>10:49 PM</td>\n",
       "      <td>156</td>\n",
       "      <td>BOS</td>\n",
       "      <td>Chicago</td>\n",
       "      <td>1.6</td>\n",
       "      <td>1961</td>\n",
       "      <td>1430</td>\n",
       "    </tr>\n",
       "  </tbody>\n",
       "</table>\n",
       "</div>"
      ],
      "text/plain": [
       "   National_Gm_Num Network        Date Start Time  End Time  Duration  \\\n",
       "0                1     TNT  2016-10-25    7:33 PM  10:12 PM       159   \n",
       "1                2     TNT  2016-10-25   10:12 PM  12:56 AM       164   \n",
       "2                3    ESPN  2016-10-26    8:04 PM  10:42 PM       158   \n",
       "3                4    ESPN  2016-10-26   10:42 PM   1:12 AM       150   \n",
       "4                5     TNT  2016-10-27    8:13 PM  10:49 PM       156   \n",
       "\n",
       "  Away Team     Home Team  National Rating  Average Viewers (000)  \\\n",
       "0       NYK     Cleveland              2.2                   2872   \n",
       "1       SAS  Golden State              2.6                   3483   \n",
       "2       OKC  Philadelphia              1.4                   1583   \n",
       "3       HOU   L.A. Lakers              1.7                   2002   \n",
       "4       BOS       Chicago              1.6                   1961   \n",
       "\n",
       "   Average Households (000)  \n",
       "0                      2044  \n",
       "1                      2428  \n",
       "2                      1224  \n",
       "3                      1518  \n",
       "4                      1430  "
      ]
     },
     "execution_count": 3,
     "metadata": {},
     "output_type": "execute_result"
    }
   ],
   "source": [
    "pd.head()"
   ]
  },
  {
   "cell_type": "code",
   "execution_count": null,
   "metadata": {
    "collapsed": true
   },
   "outputs": [],
   "source": []
  }
 ],
 "metadata": {
  "anaconda-cloud": {},
  "kernelspec": {
   "display_name": "Python [conda env:p_3.5]",
   "language": "python",
   "name": "conda-env-p_3.5-py"
  },
  "language_info": {
   "codemirror_mode": {
    "name": "ipython",
    "version": 3
   },
   "file_extension": ".py",
   "mimetype": "text/x-python",
   "name": "python",
   "nbconvert_exporter": "python",
   "pygments_lexer": "ipython3",
   "version": "3.5.3"
  }
 },
 "nbformat": 4,
 "nbformat_minor": 1
}
